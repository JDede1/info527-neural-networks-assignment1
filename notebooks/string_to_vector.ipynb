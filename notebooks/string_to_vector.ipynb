{
  "nbformat": 4,
  "nbformat_minor": 0,
  "metadata": {
    "colab": {
      "provenance": []
    },
    "kernelspec": {
      "name": "python3",
      "display_name": "Python 3"
    },
    "language_info": {
      "name": "python"
    }
  },
  "cells": [
    {
      "cell_type": "code",
      "execution_count": 1,
      "metadata": {
        "id": "vAHRFHYDB0Ab",
        "colab": {
          "base_uri": "https://localhost:8080/"
        },
        "outputId": "e9a93713-2931-40eb-da9a-9792811af804"
      },
      "outputs": [
        {
          "output_type": "stream",
          "name": "stdout",
          "text": [
            "Drive already mounted at /content/drive; to attempt to forcibly remount, call drive.mount(\"/content/drive\", force_remount=True).\n"
          ]
        }
      ],
      "source": [
        "from google.colab import drive\n",
        "drive.mount('/content/drive')"
      ]
    },
    {
      "cell_type": "code",
      "source": [
        "%load stv_nn.py"
      ],
      "metadata": {
        "id": "GZZ0ua8cE7E6"
      },
      "execution_count": 2,
      "outputs": []
    },
    {
      "cell_type": "code",
      "source": [
        "with open('stv_nn.py', 'r') as file:\n",
        "    code = file.read()"
      ],
      "metadata": {
        "id": "xOeB1vPUFG7h"
      },
      "execution_count": 3,
      "outputs": []
    },
    {
      "cell_type": "code",
      "source": [
        "print(code)"
      ],
      "metadata": {
        "id": "0oic1eNGFHIa",
        "colab": {
          "base_uri": "https://localhost:8080/"
        },
        "outputId": "1c829621-a650-4f5a-940a-1783bbdddebe"
      },
      "execution_count": 4,
      "outputs": [
        {
          "output_type": "stream",
          "name": "stdout",
          "text": [
            "#!/usr/bin/env python\n",
            "# coding: utf-8\n",
            "\n",
            "# In[1]:\n",
            "\n",
            "\n",
            "\"\"\"\n",
            "The main code for the Strings-to-Vectors assignment. See README.md and Instructions for details.\n",
            "\"\"\"\n",
            "from typing import Sequence, Any\n",
            "\n",
            "import numpy as np\n",
            "\n",
            "\n",
            "class Index:\n",
            "    \"\"\"\n",
            "    Represents a mapping from a vocabulary (e.g., strings) to integers.\n",
            "    \"\"\"\n",
            "\n",
            "    def __init__(self, vocab: Sequence[Any], start=0):\n",
            "        \"\"\"\n",
            "        Assigns an index to each unique item in the `vocab` iterable,\n",
            "        with indexes starting from `start`.\n",
            "\n",
            "        Indexes should be assigned in order, so that the first unique item in\n",
            "        `vocab` has the index `start`, the second unique item has the index\n",
            "        `start + 1`, etc.\n",
            "        \"\"\"\n",
            "        # Initialize the dictionaries for object-to-index and index-to-object mappings\n",
            "        self.start = start  # Store the start attribute\n",
            "        self.object_to_index = {}\n",
            "        self.index_to_object = {}\n",
            "\n",
            "        # Initialize the starting index\n",
            "        current_index = start\n",
            "\n",
            "        # Assign an index to each unique item in the vocabulary\n",
            "        for item in vocab:\n",
            "            if item not in self.object_to_index:  # Only assign if item is not already indexed\n",
            "                self.object_to_index[item] = current_index\n",
            "                self.index_to_object[current_index] = item\n",
            "                current_index += 1  # Increment the index for the next unique item\n",
            "                \n",
            "\n",
            "    def objects_to_indexes(self, object_seq: Sequence[Any]) -> np.ndarray:\n",
            "        \"\"\"\n",
            "        Returns a vector of the indexes associated with the input objects.\n",
            "\n",
            "        For objects not in the vocabulary, `start-1` is used as the index.\n",
            "\n",
            "        :param object_seq: A sequence of objects.\n",
            "        :return: A 1-dimensional array of the object indexes.\n",
            "        \"\"\"\n",
            "        # Convert each object to its corresponding index using list comprehension\n",
            "        # If the object is not found in the vocabulary, return `start - 1`\n",
            "        indexes = [self.object_to_index.get(obj, self.start - 1) for obj in object_seq]\n",
            "        \n",
            "        return np.array(indexes)\n",
            "\n",
            "\n",
            "    def objects_to_index_matrix(\n",
            "            self, object_seq_seq: Sequence[Sequence[Any]]) -> np.ndarray:\n",
            "        \"\"\"\n",
            "        Returns a matrix of the indexes associated with the input objects.\n",
            "\n",
            "        For objects not in the vocabulary, `start-1` is used as the index.\n",
            "\n",
            "        If the sequences are not all of the same length, shorter sequences will\n",
            "        have padding added at the end, with `start-1` used as the pad value.\n",
            "\n",
            "        :param object_seq_seq: A sequence of sequences of objects.\n",
            "        :return: A 2-dimensional array of the object indexes.\n",
            "        \"\"\"\n",
            " # Find the maximum length of the sequences in object_seq_seq\n",
            "        max_length = max(len(seq) for seq in object_seq_seq)\n",
            "        # Initialize a matrix filled with `start-1` for padding\n",
            "        matrix = np.full((len(object_seq_seq), max_length), self.start - 1)\n",
            "\n",
            "        # Fill the matrix with the indexes of the objects\n",
            "        for i, object_seq in enumerate(object_seq_seq):\n",
            "            indexes = [self.object_to_index.get(obj, self.start - 1) for obj in object_seq]\n",
            "            matrix[i, :len(indexes)] = indexes\n",
            "\n",
            "        return matrix    \n",
            "        \n",
            "\n",
            "    def objects_to_binary_vector(self, object_seq: Sequence[Any]) -> np.ndarray:\n",
            "        \"\"\"\n",
            "        Returns a binary vector, with a 1 at each index corresponding to one of\n",
            "        the input objects.\n",
            "\n",
            "        :param object_seq: A sequence of objects.\n",
            "        :return: A 1-dimensional array, with 1s at the indexes of each object,\n",
            "                 and 0s at all other indexes.\n",
            "        \"\"\"\n",
            "# Initialize a binary vector of zeros with a length equal to the size of the vocabulary plus start\n",
            "        binary_vector = np.zeros(len(self.object_to_index) + self.start, dtype=int)\n",
            "\n",
            "        # Iterate through each object in the input sequence\n",
            "        for obj in object_seq:\n",
            "            if obj in self.object_to_index:\n",
            "                index = self.object_to_index[obj]\n",
            "                binary_vector[index] = 1\n",
            "\n",
            "        return binary_vector\n",
            "    \n",
            "\n",
            "    def objects_to_binary_matrix(\n",
            "            self, object_seq_seq: Sequence[Sequence[Any]]) -> np.ndarray:\n",
            "        \"\"\"\n",
            "        Returns a binary matrix, with a 1 at each index corresponding to one of\n",
            "        the input objects.\n",
            "\n",
            "        :param object_seq_seq: A sequence of sequences of objects.\n",
            "        :return: A 2-dimensional array, where each row in the array corresponds\n",
            "                 to a row in the input, with 1s at the indexes of each object,\n",
            "                 and 0s at all other indexes.\n",
            "        \"\"\"\n",
            "        # Calculate the number of columns needed, accounting for 'start'\n",
            "        max_index = len(self.object_to_index) + self.start\n",
            "        # Initialize a binary matrix of zeros\n",
            "        binary_matrix = np.zeros((len(object_seq_seq), max_index), dtype=int)\n",
            "\n",
            "        # Iterate through each sequence of objects\n",
            "        for i, object_seq in enumerate(object_seq_seq):\n",
            "            for obj in object_seq:\n",
            "                if obj in self.object_to_index:\n",
            "                    index = self.object_to_index[obj]\n",
            "                    binary_matrix[i, index] = 1\n",
            "\n",
            "        return binary_matrix\n",
            "\n",
            "\n",
            "    def indexes_to_objects(self, index_vector: np.ndarray) -> Sequence[Any]:\n",
            "        \"\"\"\n",
            "        Returns a sequence of objects associated with the indexes in the input\n",
            "        vector.\n",
            "\n",
            "        If, for any of the indexes, there is not an associated object, that\n",
            "        index is skipped in the output.\n",
            "\n",
            "        :param index_vector: A 1-dimensional array of indexes\n",
            "        :return: A sequence of objects, one for each index.\n",
            "        \"\"\"\n",
            "        # Use list comprehension to retrieve objects for each index in index_vector.\n",
            "        # Only include the object if the index exists in the index_to_object mapping.\n",
            "        objects = [self.index_to_object[index] for index in index_vector if index in self.index_to_object]\n",
            "\n",
            "        # Return the list of objects corresponding to the valid indexes.\n",
            "        return objects\n",
            "\n",
            "    \n",
            "\n",
            "    def index_matrix_to_objects(\n",
            "            self, index_matrix: np.ndarray) -> Sequence[Sequence[Any]]:\n",
            "        \"\"\"\n",
            "        Returns a sequence of sequences of objects associated with the indexes\n",
            "        in the input matrix.\n",
            "\n",
            "        If, for any of the indexes, there is not an associated object, that\n",
            "        index is skipped in the output.\n",
            "\n",
            "        :param index_matrix: A 2-dimensional array of indexes\n",
            "        :return: A sequence of sequences of objects, one for each index.\n",
            "        \"\"\"\n",
            "        # Initialize an empty list to store the sequences of objects\n",
            "        objects_matrix = []\n",
            "\n",
            "        # Iterate through each row (index vector) in the index matrix\n",
            "        for index_vector in index_matrix:\n",
            "            # Convert each row (1D array of indexes) to a sequence of objects\n",
            "            # Use list comprehension to retrieve objects for each valid index in index_vector\n",
            "            objects = [self.index_to_object[index] for index in index_vector if index in self.index_to_object]\n",
            "    \n",
            "            # Append the sequence of objects to the result list (objects_matrix)\n",
            "            objects_matrix.append(objects)\n",
            "\n",
            "        # Return the list of sequences\n",
            "        return objects_matrix\n",
            "\n",
            "    \n",
            "\n",
            "    def binary_vector_to_objects(self, vector: np.ndarray) -> Sequence[Any]:\n",
            "        \"\"\"\n",
            "        Returns a sequence of the objects identified by the nonzero indexes in\n",
            "        the input vector.\n",
            "\n",
            "        If, for any of the indexes, there is not an associated object, that\n",
            "        index is skipped in the output.\n",
            "\n",
            "        :param vector: A 1-dimensional binary array\n",
            "        :return: A sequence of objects, one for each nonzero index.\n",
            "        \"\"\"\n",
            "        # Find the indexes of the nonzero elements in the vector.\n",
            "        # [0] is used to get the first array (for the nonzero indexes).\n",
            "        nonzero_indexes = np.nonzero(vector)[0]\n",
            "\n",
            "        # Use list comprehension to retrieve the objects associated with the nonzero indexes.\n",
            "        # Only include the object if the index exists in the index_to_object mapping.\n",
            "        objects = [self.index_to_object[index] for index in nonzero_indexes if index in self.index_to_object]\n",
            "\n",
            "        # Return the list of objects.\n",
            "        return objects\n",
            "\n",
            "    \n",
            "\n",
            "    def binary_matrix_to_objects(\n",
            "            self, binary_matrix: np.ndarray) -> Sequence[Sequence[Any]]:\n",
            "        \"\"\"\n",
            "        Returns a sequence of sequences of objects identified by the nonzero\n",
            "        indices in the input matrix.\n",
            "\n",
            "        If, for any of the indexes, there is not an associated object, that\n",
            "        index is skipped in the output.\n",
            "\n",
            "        :param binary_matrix: A 2-dimensional binary array\n",
            "        :return: A sequence of sequences of objects, one for each nonzero index.\n",
            "        \"\"\"\n",
            "        # Initialize an empty list to store the sequences of objects for each binary vector (row) in the binary matrix\n",
            "        objects_matrix = []\n",
            "\n",
            "        # Iterate through each row (binary vector) in the binary matrix\n",
            "        for binary_vector in binary_matrix:\n",
            "            nonzero_indexes = np.nonzero(binary_vector)[0]\n",
            "    \n",
            "            # Use list comprehension to retrieve the objects associated with the nonzero indexes\n",
            "            # Only include the object if the index exists in the index_to_object mapping\n",
            "            objects = [self.index_to_object[index] for index in nonzero_indexes if index in self.index_to_object]\n",
            "    \n",
            "            # Append the sequence of objects corresponding to the current binary vector to the objects_matrix\n",
            "            objects_matrix.append(objects)\n",
            "\n",
            "        # Return the list of sequences\n",
            "        return objects_matrix\n",
            "\n",
            "\n"
          ]
        }
      ]
    },
    {
      "cell_type": "code",
      "source": [
        "%load test_stv_nn.py"
      ],
      "metadata": {
        "id": "2ZdbJOIgFS6v"
      },
      "execution_count": 5,
      "outputs": []
    },
    {
      "cell_type": "code",
      "source": [
        "!pytest"
      ],
      "metadata": {
        "colab": {
          "base_uri": "https://localhost:8080/"
        },
        "id": "EwkBBe7NFlhZ",
        "outputId": "7d90213f-f9aa-4e4a-e159-82240a15c05e"
      },
      "execution_count": 6,
      "outputs": [
        {
          "output_type": "stream",
          "name": "stdout",
          "text": [
            "\u001b[1m======================================= test session starts ========================================\u001b[0m\n",
            "platform linux -- Python 3.10.12, pytest-7.4.4, pluggy-1.5.0\n",
            "rootdir: /content\n",
            "plugins: typeguard-4.3.0, anyio-3.7.1\n",
            "collected 16 items                                                                                 \u001b[0m\n",
            "\n",
            "test_nn.py \u001b[32m.\u001b[0m\u001b[32m.\u001b[0m\u001b[32m.\u001b[0m\u001b[32m.\u001b[0m\u001b[32m.\u001b[0m\u001b[32m.\u001b[0m\u001b[32m.\u001b[0m\u001b[32m.\u001b[0m\u001b[32m                                                                          [ 50%]\u001b[0m\n",
            "test_stv_nn.py \u001b[32m.\u001b[0m\u001b[32m.\u001b[0m\u001b[32m.\u001b[0m\u001b[32m.\u001b[0m\u001b[32m.\u001b[0m\u001b[32m.\u001b[0m\u001b[32m.\u001b[0m\u001b[32m.\u001b[0m\u001b[32m                                                                      [100%]\u001b[0m\n",
            "\n",
            "\u001b[32m======================================== \u001b[32m\u001b[1m16 passed\u001b[0m\u001b[32m in 5.28s\u001b[0m\u001b[32m ========================================\u001b[0m\n"
          ]
        }
      ]
    }
  ]
}